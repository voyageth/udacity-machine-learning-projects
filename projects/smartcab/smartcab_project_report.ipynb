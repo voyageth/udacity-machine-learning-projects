{
 "cells": [
  {
   "cell_type": "markdown",
   "metadata": {},
   "source": [
    "# Project Report\n",
    "\n",
    "You will be required to submit a project report along with your modified agent code as part of your submission. \n",
    "As you complete the tasks below, include thorough, detailed answers to each question provided in italics."
   ]
  },
  {
   "cell_type": "markdown",
   "metadata": {},
   "source": [
    "## Implement a Basic Driving Agent\n",
    "\n",
    "To begin, your only task is to get the **smartcab** to move around in the environment. \n",
    "At this point, you will not be concerned with any sort of optimal driving policy. \n",
    "Note that the driving agent is given the following information at each intersection:\n",
    "\n",
    "- The next waypoint location relative to its current location and heading.\n",
    "- The state of the traffic light at the intersection and the presence of oncoming vehicles from other directions.\n",
    "- The current time left from the allotted deadline.\n",
    "\n",
    "To complete this task, \n",
    "simply have your driving agent choose a random action from the set of possible actions (`None`, `'forward'`, `'left'`, `'right'`) at each intersection, \n",
    "disregarding the input information above. \n",
    "Set the simulation deadline enforcement, `enforce_deadline` to `False` and observe how it performs.\n",
    "\n",
    "_**QUESTION:** Observe what you see with the agent's behavior as it takes random actions. \n",
    "Does the **smartcab** eventually make it to the destination? \n",
    "Are there any other interesting observations to note?_"
   ]
  },
  {
   "cell_type": "markdown",
   "metadata": {},
   "source": [
    "**ANSWER**\n",
    "\n",
    "Does the smartcab eventually make it to the destination?\n",
    "- No\n",
    "\n",
    "Are there any other interesting observations to note?\n"
   ]
  },
  {
   "cell_type": "markdown",
   "metadata": {},
   "source": [
    "## Inform the Driving Agent\n",
    "\n",
    "Now that your driving agent is capable of moving around in the environment, \n",
    "your next task is to identify a set of states that are appropriate for modeling the **smartcab** and environment. \n",
    "The main source of state variables are the current inputs at the intersection, but not all may require representation. \n",
    "You may choose to explicitly define states, or use some combination of inputs as an implicit state. \n",
    "At each time step, process the inputs and update the agent's current state using the `self.state` variable. \n",
    "Continue with the simulation deadline enforcement `enforce_deadline` being set to `False`, \n",
    "and observe how your driving agent now reports the change in state as the simulation progresses.\n",
    "\n",
    "_**QUESTION:** What states have you identified that are appropriate for modeling the **smartcab** and environment? \n",
    "Why do you believe each of these states to be appropriate for this problem?_\n",
    "\n",
    "_**OPTIONAL:** How many states in total exist for the **smartcab** in this environment? \n",
    "Does this number seem reasonable given that the goal of Q-Learning is to learn and make informed decisions about each state? \n",
    "Why or why not?_"
   ]
  },
  {
   "cell_type": "markdown",
   "metadata": {},
   "source": [
    "** ANSWER **\n",
    "\n",
    "What states have you identified that are appropriate for modeling the smartcab and environment? \n",
    "- available environment values\n",
    "  - light = ['red', 'green']\n",
    "  - oncoming = [None, 'forward', 'left', 'right']\n",
    "  - right = [None, 'forward', 'left', 'right']\n",
    "  - left = [None, 'forward', 'left', 'right']\n",
    "- all available states count is 2 * 4 * 4 * 4 = 128.\n",
    "- But we do not need all 128 states. I think following 5 states are appropriate for this problem.\n",
    "- canMove states\n",
    "  - light = 'green'\n",
    "    - `GREEN_CAN_LEFT` state : oncomming = None | oncoming = 'left'\n",
    "      - None, 'forward', 'right', 'left'\n",
    "    - `GREEN_CANT_LEFT` state : the rest\n",
    "      - None, 'forward', 'right'\n",
    "  - light = 'red'\n",
    "    - `RED_CAN_RIGHT` state : left != 'forward'\n",
    "      - None, 'right'\n",
    "    - `RED_CANT_RIGHT` state : the rest\n",
    "      - None\n",
    "\n",
    "Why do you believe each of these states to be appropriate for this problem?\n",
    "- These states(`GREEN_CAN_LEFT`, `GREEN_CANT_LEFT`, `RED_CAN_RIGHT`, `RED_CANT_RIGHT`) can represent all possible actions.\n",
    "\n",
    "\n",
    "How many states in total exist for the smartcab in this environment?\n",
    "- 128\n",
    "\n",
    "Does this number seem reasonable given that the goal of Q-Learning is to learn and make informed decisions about each state? Why or why not?\n",
    "- No. too many redundant states."
   ]
  },
  {
   "cell_type": "markdown",
   "metadata": {},
   "source": [
    "## Implement a Q-Learning Driving Agent\n",
    "\n",
    "With your driving agent being capable of interpreting the input information and having a mapping of environmental states, \n",
    "your next task is to implement the Q-Learning algorithm for your driving agent to choose the best action at each time step, \n",
    "based on the Q-values for the current state and action. \n",
    "Each action taken by the **smartcab** will produce a reward which depends on the state of the environment. \n",
    "The Q-Learning driving agent will need to consider these rewards when updating the Q-values. Once implemented, \n",
    "set the simulation deadline enforcement `enforce_deadline` to `True`. \n",
    "Run the simulation and observe how the **smartcab** moves about the environment in each trial.\n",
    "\n",
    "The formulas for updating Q-values can be found in \n",
    "[this](https://classroom.udacity.com/nanodegrees/nd009/parts/0091345409/modules/e64f9a65-fdb5-4e60-81a9-72813beebb7e/lessons/5446820041/concepts/6348990570923) \n",
    "video.\n",
    "\n",
    "_**QUESTION:** What changes do you notice in the agent's behavior when compared to the basic driving agent when random actions were always taken? \n",
    "Why is this behavior occurring?_"
   ]
  },
  {
   "cell_type": "markdown",
   "metadata": {},
   "source": [
    "**ANSWER**\n",
    "\n",
    "What changes do you notice in the agent's behavior when compared to the basic driving agent when random actions were always taken? \n",
    "\n",
    "\n",
    "\n",
    "Why is this behavior occurring?\n",
    "\n"
   ]
  },
  {
   "cell_type": "markdown",
   "metadata": {},
   "source": [
    "## Improve the Q-Learning Driving Agent\n",
    "\n",
    "Your final task for this project is to enhance your driving agent so that, after sufficient training, \n",
    "the **smartcab** is able to reach the destination within the allotted time safely and efficiently. \n",
    "Parameters in the Q-Learning algorithm, such as the learning rate (`alpha`), \n",
    "the discount factor (`gamma`) and the exploration rate (`epsilon`) all contribute to the driving agent’s ability to learn the best action for each state.\n",
    "To improve on the success of your smartcab:\n",
    "\n",
    "- Set the number of trials, `n_trials`, in the simulation to 100.\n",
    "- Run the simulation with the deadline enforcement `enforce_deadline` set to `True`\n",
    "(you will need to reduce the update delay `update_delay` and set the `display` to `False`).\n",
    "- Observe the driving agent’s learning and **smartcab’s** success rate, particularly during the later trials.\n",
    "- Adjust one or several of the above parameters and iterate this process.\n",
    "\n",
    "This task is complete once you have arrived at what you determine is the best combination of parameters required for your driving agent to learn successfully.\n",
    "\n",
    "_**QUESTION:** Report the different values for the parameters tuned in your basic implementation of Q-Learning. \n",
    "For which set of parameters does the agent perform best? \n",
    "How well does the final driving agent perform?_\n",
    "\n",
    "_**QUESTION:** Does your agent get close to finding an optimal policy, i.e. reach the destination in the minimum possible time, and not incur any penalties? \n",
    "How would you describe an optimal policy for this problem?_\n"
   ]
  },
  {
   "cell_type": "markdown",
   "metadata": {},
   "source": [
    "** ANSWER **\n",
    "\n",
    "Report the different values for the parameters tuned in your basic implementation of Q-Learning. For which set of parameters does the agent perform best? \n",
    "\n",
    "How well does the final driving agent perform?\n",
    "\n",
    "Does your agent get close to finding an optimal policy, i.e. reach the destination in the minimum possible time, and not incur any penalties? \n",
    "\n",
    "How would you describe an optimal policy for this problem?"
   ]
  },
  {
   "cell_type": "code",
   "execution_count": null,
   "metadata": {
    "collapsed": true
   },
   "outputs": [],
   "source": []
  }
 ],
 "metadata": {
  "kernelspec": {
   "display_name": "Python 2",
   "language": "python",
   "name": "python2"
  },
  "language_info": {
   "codemirror_mode": {
    "name": "ipython",
    "version": 2
   },
   "file_extension": ".py",
   "mimetype": "text/x-python",
   "name": "python",
   "nbconvert_exporter": "python",
   "pygments_lexer": "ipython2",
   "version": "2.7.12"
  }
 },
 "nbformat": 4,
 "nbformat_minor": 0
}
