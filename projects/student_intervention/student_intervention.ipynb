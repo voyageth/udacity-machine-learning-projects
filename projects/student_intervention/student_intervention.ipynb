{
 "cells": [
  {
   "cell_type": "markdown",
   "metadata": {},
   "source": [
    "# Machine Learning Engineer Nanodegree\n",
    "## Supervised Learning\n",
    "## Project 2: Building a Student Intervention System"
   ]
  },
  {
   "cell_type": "markdown",
   "metadata": {},
   "source": [
    "Welcome to the second project of the Machine Learning Engineer Nanodegree! In this notebook, some template code has already been provided for you, and it will be your job to implement the additional functionality necessary to successfully complete this project. Sections that begin with **'Implementation'** in the header indicate that the following block of code will require additional functionality which you must provide. Instructions will be provided for each section and the specifics of the implementation are marked in the code block with a `'TODO'` statement. Please be sure to read the instructions carefully!\n",
    "\n",
    "In addition to implementing code, there will be questions that you must answer which relate to the project and your implementation. Each section where you will answer a question is preceded by a **'Question X'** header. Carefully read each question and provide thorough answers in the following text boxes that begin with **'Answer:'**. Your project submission will be evaluated based on your answers to each of the questions and the implementation you provide.  \n",
    "\n",
    ">**Note:** Code and Markdown cells can be executed using the **Shift + Enter** keyboard shortcut. In addition, Markdown cells can be edited by typically double-clicking the cell to enter edit mode."
   ]
  },
  {
   "cell_type": "markdown",
   "metadata": {},
   "source": [
    "### Question 1 - Classification vs. Regression\n",
    "*Your goal for this project is to identify students who might need early intervention before they fail to graduate. Which type of supervised learning problem is this, classification or regression? Why?*"
   ]
  },
  {
   "cell_type": "markdown",
   "metadata": {},
   "source": [
    "**Answer: **\n",
    "I think classification problem. In this problem, we need find students who might need early intervention. So, labeling \"Need early intervention\"/\"Does not need\" needed."
   ]
  },
  {
   "cell_type": "markdown",
   "metadata": {},
   "source": [
    "## Exploring the Data\n",
    "Run the code cell below to load necessary Python libraries and load the student data. Note that the last column from this dataset, `'passed'`, will be our target label (whether the student graduated or didn't graduate). All other columns are features about each student."
   ]
  },
  {
   "cell_type": "code",
   "execution_count": 1,
   "metadata": {
    "collapsed": false
   },
   "outputs": [
    {
     "name": "stdout",
     "output_type": "stream",
     "text": [
      "Student data read successfully!\n"
     ]
    }
   ],
   "source": [
    "# Import libraries\n",
    "import numpy as np\n",
    "import pandas as pd\n",
    "from time import time\n",
    "from sklearn.metrics import f1_score\n",
    "\n",
    "# Read student data\n",
    "student_data = pd.read_csv(\"student-data.csv\")\n",
    "print \"Student data read successfully!\""
   ]
  },
  {
   "cell_type": "markdown",
   "metadata": {},
   "source": [
    "### Implementation: Data Exploration\n",
    "Let's begin by investigating the dataset to determine how many students we have information on, and learn about the graduation rate among these students. In the code cell below, you will need to compute the following:\n",
    "- The total number of students, `n_students`.\n",
    "- The total number of features for each student, `n_features`.\n",
    "- The number of those students who passed, `n_passed`.\n",
    "- The number of those students who failed, `n_failed`.\n",
    "- The graduation rate of the class, `grad_rate`, in percent (%)."
   ]
  },
  {
   "cell_type": "code",
   "execution_count": 2,
   "metadata": {
    "collapsed": false
   },
   "outputs": [
    {
     "name": "stdout",
     "output_type": "stream",
     "text": [
      "Total number of students: 395\n",
      "Number of features: 30\n",
      "Number of students who passed: 265\n",
      "Number of students who failed: 130\n",
      "Graduation rate of the class: 67.09%\n"
     ]
    }
   ],
   "source": [
    "# TODO: Calculate number of students\n",
    "n_students = len(student_data)\n",
    "\n",
    "# TODO: Calculate number of features\n",
    "n_features = len(student_data.columns[:-1])\n",
    "\n",
    "# TODO: Calculate passing students\n",
    "is_passed = student_data['passed'] == 'yes'\n",
    "n_passed = len(student_data[is_passed])\n",
    "\n",
    "# TODO: Calculate failing students\n",
    "is_failed = student_data['passed'] == 'no'\n",
    "n_failed = len(student_data[is_failed])\n",
    "\n",
    "# TODO: Calculate graduation rate\n",
    "grad_rate = float(n_passed) / float(n_students) * 100\n",
    "\n",
    "# Print the results\n",
    "print \"Total number of students: {}\".format(n_students)\n",
    "print \"Number of features: {}\".format(n_features)\n",
    "print \"Number of students who passed: {}\".format(n_passed)\n",
    "print \"Number of students who failed: {}\".format(n_failed)\n",
    "print \"Graduation rate of the class: {:.2f}%\".format(grad_rate)"
   ]
  },
  {
   "cell_type": "markdown",
   "metadata": {},
   "source": [
    "## Preparing the Data\n",
    "In this section, we will prepare the data for modeling, training and testing.\n",
    "\n",
    "### Identify feature and target columns\n",
    "It is often the case that the data you obtain contains non-numeric features. This can be a problem, as most machine learning algorithms expect numeric data to perform computations with.\n",
    "\n",
    "Run the code cell below to separate the student data into feature and target columns to see if any features are non-numeric."
   ]
  },
  {
   "cell_type": "code",
   "execution_count": 3,
   "metadata": {
    "collapsed": false,
    "scrolled": false
   },
   "outputs": [
    {
     "name": "stdout",
     "output_type": "stream",
     "text": [
      "Feature columns:\n",
      "['school', 'sex', 'age', 'address', 'famsize', 'Pstatus', 'Medu', 'Fedu', 'Mjob', 'Fjob', 'reason', 'guardian', 'traveltime', 'studytime', 'failures', 'schoolsup', 'famsup', 'paid', 'activities', 'nursery', 'higher', 'internet', 'romantic', 'famrel', 'freetime', 'goout', 'Dalc', 'Walc', 'health', 'absences']\n",
      "\n",
      "Target column: passed\n",
      "\n",
      "Feature values:\n",
      "  school sex  age address famsize Pstatus  Medu  Fedu     Mjob      Fjob  \\\n",
      "0     GP   F   18       U     GT3       A     4     4  at_home   teacher   \n",
      "1     GP   F   17       U     GT3       T     1     1  at_home     other   \n",
      "2     GP   F   15       U     LE3       T     1     1  at_home     other   \n",
      "3     GP   F   15       U     GT3       T     4     2   health  services   \n",
      "4     GP   F   16       U     GT3       T     3     3    other     other   \n",
      "\n",
      "    ...    higher internet  romantic  famrel  freetime goout Dalc Walc health  \\\n",
      "0   ...       yes       no        no       4         3     4    1    1      3   \n",
      "1   ...       yes      yes        no       5         3     3    1    1      3   \n",
      "2   ...       yes      yes        no       4         3     2    2    3      3   \n",
      "3   ...       yes      yes       yes       3         2     2    1    1      5   \n",
      "4   ...       yes       no        no       4         3     2    1    2      5   \n",
      "\n",
      "  absences  \n",
      "0        6  \n",
      "1        4  \n",
      "2       10  \n",
      "3        2  \n",
      "4        4  \n",
      "\n",
      "[5 rows x 30 columns]\n"
     ]
    }
   ],
   "source": [
    "# Extract feature columns\n",
    "feature_cols = list(student_data.columns[:-1])\n",
    "\n",
    "# Extract target column 'passed'\n",
    "target_col = student_data.columns[-1] \n",
    "\n",
    "# Show the list of columns\n",
    "print \"Feature columns:\\n{}\".format(feature_cols)\n",
    "print \"\\nTarget column: {}\".format(target_col)\n",
    "\n",
    "# Separate the data into feature data and target data (X_all and y_all, respectively)\n",
    "X_all = student_data[feature_cols]\n",
    "y_all = student_data[target_col]\n",
    "\n",
    "# Show the feature information by printing the first five rows\n",
    "print \"\\nFeature values:\"\n",
    "print X_all.head()"
   ]
  },
  {
   "cell_type": "markdown",
   "metadata": {},
   "source": [
    "### Preprocess Feature Columns\n",
    "\n",
    "As you can see, there are several non-numeric columns that need to be converted! Many of them are simply `yes`/`no`, e.g. `internet`. These can be reasonably converted into `1`/`0` (binary) values.\n",
    "\n",
    "Other columns, like `Mjob` and `Fjob`, have more than two values, and are known as _categorical variables_. The recommended way to handle such a column is to create as many columns as possible values (e.g. `Fjob_teacher`, `Fjob_other`, `Fjob_services`, etc.), and assign a `1` to one of them and `0` to all others.\n",
    "\n",
    "These generated columns are sometimes called _dummy variables_, and we will use the [`pandas.get_dummies()`](http://pandas.pydata.org/pandas-docs/stable/generated/pandas.get_dummies.html?highlight=get_dummies#pandas.get_dummies) function to perform this transformation. Run the code cell below to perform the preprocessing routine discussed in this section."
   ]
  },
  {
   "cell_type": "code",
   "execution_count": 4,
   "metadata": {
    "collapsed": false
   },
   "outputs": [
    {
     "name": "stdout",
     "output_type": "stream",
     "text": [
      "Processed feature columns (48 total features):\n",
      "['school_GP', 'school_MS', 'sex_F', 'sex_M', 'age', 'address_R', 'address_U', 'famsize_GT3', 'famsize_LE3', 'Pstatus_A', 'Pstatus_T', 'Medu', 'Fedu', 'Mjob_at_home', 'Mjob_health', 'Mjob_other', 'Mjob_services', 'Mjob_teacher', 'Fjob_at_home', 'Fjob_health', 'Fjob_other', 'Fjob_services', 'Fjob_teacher', 'reason_course', 'reason_home', 'reason_other', 'reason_reputation', 'guardian_father', 'guardian_mother', 'guardian_other', 'traveltime', 'studytime', 'failures', 'schoolsup', 'famsup', 'paid', 'activities', 'nursery', 'higher', 'internet', 'romantic', 'famrel', 'freetime', 'goout', 'Dalc', 'Walc', 'health', 'absences']\n"
     ]
    }
   ],
   "source": [
    "def preprocess_features(X):\n",
    "    ''' Preprocesses the student data and converts non-numeric binary variables into\n",
    "        binary (0/1) variables. Converts categorical variables into dummy variables. '''\n",
    "    \n",
    "    # Initialize new output DataFrame\n",
    "    output = pd.DataFrame(index = X.index)\n",
    "\n",
    "    # Investigate each feature column for the data\n",
    "    for col, col_data in X.iteritems():\n",
    "        \n",
    "        # If data type is non-numeric, replace all yes/no values with 1/0\n",
    "        if col_data.dtype == object:\n",
    "            col_data = col_data.replace(['yes', 'no'], [1, 0])\n",
    "\n",
    "        # If data type is categorical, convert to dummy variables\n",
    "        if col_data.dtype == object:\n",
    "            # Example: 'school' => 'school_GP' and 'school_MS'\n",
    "            col_data = pd.get_dummies(col_data, prefix = col)  \n",
    "        \n",
    "        # Collect the revised columns\n",
    "        output = output.join(col_data)\n",
    "    \n",
    "    return output\n",
    "\n",
    "X_all = preprocess_features(X_all)\n",
    "print \"Processed feature columns ({} total features):\\n{}\".format(len(X_all.columns), list(X_all.columns))"
   ]
  },
  {
   "cell_type": "markdown",
   "metadata": {},
   "source": [
    "### Implementation: Training and Testing Data Split\n",
    "So far, we have converted all _categorical_ features into numeric values. For the next step, we split the data (both features and corresponding labels) into training and test sets. In the following code cell below, you will need to implement the following:\n",
    "- Randomly shuffle and split the data (`X_all`, `y_all`) into training and testing subsets.\n",
    "  - Use 300 training points (approximately 75%) and 95 testing points (approximately 25%).\n",
    "  - Set a `random_state` for the function(s) you use, if provided.\n",
    "  - Store the results in `X_train`, `X_test`, `y_train`, and `y_test`."
   ]
  },
  {
   "cell_type": "code",
   "execution_count": 5,
   "metadata": {
    "collapsed": false
   },
   "outputs": [
    {
     "name": "stdout",
     "output_type": "stream",
     "text": [
      "Training set has 300 samples.\n",
      "Testing set has 95 samples.\n"
     ]
    }
   ],
   "source": [
    "# Import any additional functionality you may need here\n",
    "# Set a random_state for the function(s) you use, if provided.\n",
    "from sklearn.cross_validation import train_test_split\n",
    "\n",
    "# Set the number of training points\n",
    "# Use 300 training points (approximately 75%) and 95 testing points (approximately 25%).\n",
    "num_train = 300\n",
    "\n",
    "# Set the number of testing points\n",
    "num_test = X_all.shape[0] - num_train\n",
    "\n",
    "# Shuffle and split the dataset into the number of training and testing points above\n",
    "X_train, X_test, y_train, y_test = train_test_split(X_all, y_all, stratify = y_all, test_size=num_test, random_state=42)\n",
    "\n",
    "# Show the results of the split\n",
    "print \"Training set has {} samples.\".format(X_train.shape[0])\n",
    "print \"Testing set has {} samples.\".format(X_test.shape[0])"
   ]
  },
  {
   "cell_type": "markdown",
   "metadata": {},
   "source": [
    "## Training and Evaluating Models\n",
    "In this section, you will choose 3 supervised learning models that are appropriate for this problem and available in `scikit-learn`. You will first discuss the reasoning behind choosing these three models by considering what you know about the data and each model's strengths and weaknesses. You will then fit the model to varying sizes of training data (100 data points, 200 data points, and 300 data points) and measure the F<sub>1</sub> score. You will need to produce three tables (one for each model) that shows the training set size, training time, prediction time, F<sub>1</sub> score on the training set, and F<sub>1</sub> score on the testing set.\n",
    "\n",
    "**The following supervised learning models are currently available in** [`scikit-learn`](http://scikit-learn.org/stable/supervised_learning.html) **that you may choose from:**\n",
    "- Gaussian Naive Bayes (GaussianNB)\n",
    "- Decision Trees\n",
    "- Ensemble Methods (Bagging, AdaBoost, Random Forest, Gradient Boosting)\n",
    "- K-Nearest Neighbors (KNeighbors)\n",
    "- Stochastic Gradient Descent (SGDC)\n",
    "- Support Vector Machines (SVM)\n",
    "- Logistic Regression"
   ]
  },
  {
   "cell_type": "markdown",
   "metadata": {},
   "source": [
    "### Question 2 - Model Application\n",
    "*List three supervised learning models that are appropriate for this problem. For each model chosen*\n",
    "- Describe one real-world application in industry where the model can be applied. *(You may need to do a small bit of research for this — give references!)* \n",
    "- What are the strengths of the model; when does it perform well? \n",
    "- What are the weaknesses of the model; when does it perform poorly?\n",
    "- What makes this model a good candidate for the problem, given what you know about the data?"
   ]
  },
  {
   "cell_type": "code",
   "execution_count": 6,
   "metadata": {
    "collapsed": false
   },
   "outputs": [
    {
     "data": {
      "image/png": "[encoded data removed]",
      "text/plain": [
       "<matplotlib.figure.Figure at 0x7f5718e2f290>"
      ]
     },
     "metadata": {},
     "output_type": "display_data"
    },
    {
     "data": {
      "image/png": "[encoded data removed]",
      "text/plain": [
       "<matplotlib.figure.Figure at 0x7f5716ece5d0>"
      ]
     },
     "metadata": {},
     "output_type": "display_data"
    },
    {
     "data": {
      "image/png": "[encoded data removed]",
      "text/plain": [
       "<matplotlib.figure.Figure at 0x7f5716ae80d0>"
      ]
     },
     "metadata": {},
     "output_type": "display_data"
    },
    {
     "data": {
      "image/png": "[encoded data removed]",
      "text/plain": [
       "<matplotlib.figure.Figure at 0x7f57166e3f90>"
      ]
     },
     "metadata": {},
     "output_type": "display_data"
    },
    {
     "data": {
      "image/png": "[encoded data removed]",
      "text/plain": [
       "<matplotlib.figure.Figure at 0x7f57163bf750>"
      ]
     },
     "metadata": {},
     "output_type": "display_data"
    }
   ],
   "source": [
    "%matplotlib inline\n",
    "import matplotlib.pyplot as plt\n",
    "\n",
    "def draw_plot(fig_num, feature_names):\n",
    "    for index, item in enumerate(feature_names):\n",
    "        plt.figure(fig_num)\n",
    "        plt.subplot(321 + index)\n",
    "        plt.grid(True)\n",
    "        plt.title(item)\n",
    "        student_data[item].value_counts().plot(kind='bar')\n",
    "\n",
    "draw_plot(1, ['school', 'sex', 'age', 'address', 'famsize', 'Pstatus'])\n",
    "draw_plot(2, ['Medu', 'Fedu', 'Mjob', 'Fjob', 'reason', 'guardian'])\n",
    "draw_plot(3, ['traveltime', 'studytime', 'failures', 'schoolsup', 'famsup', 'paid'])\n",
    "draw_plot(4, ['activities', 'nursery', 'higher', 'internet', 'romantic', 'famrel'])\n",
    "draw_plot(5, ['freetime', 'goout', 'Dalc', 'Walc', 'health', 'absences'])"
   ]
  },
  {
   "cell_type": "markdown",
   "metadata": {},
   "source": [
    "**Answer: **\n",
    "\n",
    "#### List three supervised learning models that are appropriate for this problem. \n",
    "http://scikit-learn.org/stable/tutorial/machine_learning_map/\n",
    "- Logistic Regression : http://scikit-learn.org/stable/modules/linear_model.html#logistic-regression\n",
    "- Naive Bayes : http://scikit-learn.org/stable/modules/naive_bayes.html\n",
    "- SVM : http://scikit-learn.org/stable/modules/svm.html\n",
    "\n",
    "#### What are the general applications of each model? \n",
    "These three models are commonly used for supervised learning.\n",
    "- Logistic Regression\n",
    " - General purpose supervised leaning algorithm.\n",
    "- Naive Bayes\n",
    " - Spam mail detection.\n",
    "- SVM\n",
    " - Text classification problems.\n",
    "\n",
    "#### What are their strengths and weaknesses? \n",
    "- Logistic Regression\n",
    " - strenghts\n",
    "   - General purpose supervised learning algorithm. Work well on various problems.\n",
    "   - More simple than SVM.\n",
    "   - Probabilistic model. So, can be used by ranking algorithm also.\n",
    " - weakness\n",
    "   - Work well when data set linearly separable.\n",
    "- Naive Bayes\n",
    " - strenghts\n",
    "   - Just calculate probabilities. So, easy to explain.\n",
    "   - Need relatively small data set.\n",
    " - weakness\n",
    "   - Weak to noise data(ex. tree poisoning).\n",
    "   - Assume all features are independent.\n",
    "- SVM\n",
    " - strenghts\n",
    "   - High prediction accuracy.\n",
    "   - Powerful on relatively small data set.\n",
    " - weakness\n",
    "   - Relatively complex. Hard to explain to other person.\n",
    "   - Need too many computation and storage on very large data set. (http://scikit-learn.org/stable/modules/svm.html#complexity)\n",
    "\n",
    "#### Given what you know about the data, why did you choose these models to be applied?\n",
    "- Traing data size is small(300).\n",
    "- Logistic Regression is so simple and work well in most caseses. By Occam's Razor principle, i choose it.\n",
    "- Naive Bayes work well on relatively small data set. Our data set size is smal. So, i choose it.\n",
    "- SVM is powerful on relatively smal data set. Our data set size is smal. So, i choose it."
   ]
  },
  {
   "cell_type": "markdown",
   "metadata": {},
   "source": [
    "### Setup\n",
    "Run the code cell below to initialize three helper functions which you can use for training and testing the three supervised learning models you've chosen above. The functions are as follows:\n",
    "- `train_classifier` - takes as input a classifier and training data and fits the classifier to the data.\n",
    "- `predict_labels` - takes as input a fit classifier, features, and a target labeling and makes predictions using the F<sub>1</sub> score.\n",
    "- `train_predict` - takes as input a classifier, and the training and testing data, and performs `train_clasifier` and `predict_labels`.\n",
    " - This function will report the F<sub>1</sub> score for both the training and testing data separately."
   ]
  },
  {
   "cell_type": "code",
   "execution_count": 7,
   "metadata": {
    "collapsed": false
   },
   "outputs": [],
   "source": [
    "def train_classifier(clf, X_train, y_train):\n",
    "    ''' Fits a classifier to the training data. '''\n",
    "    \n",
    "    # Start the clock, train the classifier, then stop the clock\n",
    "    start = time()\n",
    "    clf.fit(X_train, y_train)\n",
    "    end = time()\n",
    "    \n",
    "    # Print the results\n",
    "    print \"Trained model in {:.4f} seconds\".format(end - start)\n",
    "\n",
    "    \n",
    "def predict_labels(clf, features, target):\n",
    "    ''' Makes predictions using a fit classifier based on F1 score. '''\n",
    "    \n",
    "    # Start the clock, make predictions, then stop the clock\n",
    "    start = time()\n",
    "    y_pred = clf.predict(features)\n",
    "    end = time()\n",
    "    \n",
    "    # Print and return results\n",
    "    print \"Made predictions in {:.4f} seconds.\".format(end - start)\n",
    "    return f1_score(target.values, y_pred, pos_label='yes')\n",
    "\n",
    "\n",
    "def train_predict(clf, X_train, y_train, X_test, y_test):\n",
    "    ''' Train and predict using a classifer based on F1 score. '''\n",
    "    \n",
    "    # Indicate the classifier and the training set size\n",
    "    print \"Training a {} using a training set size of {}. . .\".format(clf.__class__.__name__, len(X_train))\n",
    "    \n",
    "    # Train the classifier\n",
    "    train_classifier(clf, X_train, y_train)\n",
    "    \n",
    "    # Print the results of prediction for both training and testing\n",
    "    print \"F1 score for training set: {:.4f}.\".format(predict_labels(clf, X_train, y_train))\n",
    "    print \"F1 score for test set: {:.4f}.\".format(predict_labels(clf, X_test, y_test))"
   ]
  },
  {
   "cell_type": "markdown",
   "metadata": {},
   "source": [
    "### Implementation: Model Performance Metrics\n",
    "With the predefined functions above, you will now import the three supervised learning models of your choice and run the `train_predict` function for each one. Remember that you will need to train and predict on each classifier for three different training set sizes: 100, 200, and 300. Hence, you should expect to have 9 different outputs below — 3 for each model using the varying training set sizes. In the following code cell, you will need to implement the following:\n",
    "- Import the three supervised learning models you've discussed in the previous section.\n",
    "- Initialize the three models and store them in `clf_A`, `clf_B`, and `clf_C`.\n",
    " - Use a `random_state` for each model you use, if provided.\n",
    " - **Note:** Use the default settings for each model — you will tune one specific model in a later section.\n",
    "- Create the different training set sizes to be used to train each model.\n",
    " - *Do not reshuffle and resplit the data! The new training points should be drawn from `X_train` and `y_train`.*\n",
    "- Fit each model with each training set size and make predictions on the test set (9 in total).  \n",
    "**Note:** Three tables are provided after the following code cell which can be used to store your results."
   ]
  },
  {
   "cell_type": "markdown",
   "metadata": {},
   "source": [
    "1. Logistic Regression : http://scikit-learn.org/stable/modules/linear_model.html#logistic-regression\n",
    "\n",
    "> `from sklearn.linear_model import LogisticRegression\n",
    "clf_l1_LR = LogisticRegression(C=C, penalty='l1', tol=0.01)`\n",
    "\n",
    "2. Naive Bayes : http://scikit-learn.org/stable/modules/naive_bayes.html#gaussian-naive-bayes\n",
    "\n",
    "> `from sklearn import datasets\n",
    "iris = datasets.load_iris()\n",
    "from sklearn.naive_bayes import GaussianNB\n",
    "gnb = GaussianNB()\n",
    "y_pred = gnb.fit(iris.data, iris.target).predict(iris.data)\n",
    "print(\"Number of mislabeled points out of a total %d points : %d\"\n",
    "      % (iris.data.shape[0],(iris.target != y_pred).sum()))`\n",
    "\n",
    "3. SVM : http://scikit-learn.org/stable/modules/svm.html#classification\n",
    "\n",
    "> ` from sklearn import svm\n",
    "X = [[0, 0], [1, 1]]\n",
    "y = [0, 1]\n",
    "clf = svm.SVC()\n",
    "clf.fit(X, y)  \n",
    "SVC(C=1.0, cache_size=200, class_weight=None, coef0=0.0,\n",
    "    decision_function_shape=None, degree=3, gamma='auto', kernel='rbf',\n",
    "    max_iter=-1, probability=False, random_state=None, shrinking=True,\n",
    "    tol=0.001, verbose=False)\n",
    "`"
   ]
  },
  {
   "cell_type": "code",
   "execution_count": 8,
   "metadata": {
    "collapsed": false
   },
   "outputs": [
    {
     "name": "stdout",
     "output_type": "stream",
     "text": [
      "1. clf_A\n",
      "Training a LogisticRegression using a training set size of 100. . .\n",
      "Trained model in 0.0071 seconds\n",
      "Made predictions in 0.0002 seconds.\n",
      "F1 score for training set: 0.8671.\n",
      "Made predictions in 0.0001 seconds.\n",
      "F1 score for test set: 0.7068.\n",
      "Training a LogisticRegression using a training set size of 200. . .\n",
      "Trained model in 0.0016 seconds\n",
      "Made predictions in 0.0002 seconds.\n",
      "F1 score for training set: 0.8211.\n",
      "Made predictions in 0.0001 seconds.\n",
      "F1 score for test set: 0.7391.\n",
      "Training a LogisticRegression using a training set size of 300. . .\n",
      "Trained model in 0.0021 seconds\n",
      "Made predictions in 0.0001 seconds.\n",
      "F1 score for training set: 0.8512.\n",
      "Made predictions in 0.0001 seconds.\n",
      "F1 score for test set: 0.7500.\n",
      "2. clf_B\n",
      "Training a GaussianNB using a training set size of 100. . .\n",
      "Trained model in 0.0006 seconds\n",
      "Made predictions in 0.0002 seconds.\n",
      "F1 score for training set: 0.7752.\n",
      "Made predictions in 0.0002 seconds.\n",
      "F1 score for test set: 0.6457.\n",
      "Training a GaussianNB using a training set size of 200. . .\n",
      "Trained model in 0.0005 seconds\n",
      "Made predictions in 0.0003 seconds.\n",
      "F1 score for training set: 0.8060.\n",
      "Made predictions in 0.0002 seconds.\n",
      "F1 score for test set: 0.7218.\n",
      "Training a GaussianNB using a training set size of 300. . .\n",
      "Trained model in 0.0006 seconds\n",
      "Made predictions in 0.0003 seconds.\n",
      "F1 score for training set: 0.8134.\n",
      "Made predictions in 0.0002 seconds.\n",
      "F1 score for test set: 0.7761.\n",
      "3. clf_C\n",
      "Training a SVC using a training set size of 100. . .\n",
      "Trained model in 0.0010 seconds\n",
      "Made predictions in 0.0007 seconds.\n",
      "F1 score for training set: 0.8354.\n",
      "Made predictions in 0.0007 seconds.\n",
      "F1 score for test set: 0.8025.\n",
      "Training a SVC using a training set size of 200. . .\n",
      "Trained model in 0.0031 seconds\n",
      "Made predictions in 0.0023 seconds.\n",
      "F1 score for training set: 0.8431.\n",
      "Made predictions in 0.0011 seconds.\n",
      "F1 score for test set: 0.8105.\n",
      "Training a SVC using a training set size of 300. . .\n",
      "Trained model in 0.0057 seconds\n",
      "Made predictions in 0.0042 seconds.\n",
      "F1 score for training set: 0.8664.\n",
      "Made predictions in 0.0014 seconds.\n",
      "F1 score for test set: 0.8052.\n"
     ]
    }
   ],
   "source": [
    "# Import the three supervised learning models from sklearn\n",
    "from sklearn.linear_model import LogisticRegression\n",
    "from sklearn.naive_bayes import GaussianNB\n",
    "from sklearn import svm\n",
    "\n",
    "# Initialize the three models\n",
    "clf_A = LogisticRegression()\n",
    "clf_B = GaussianNB()\n",
    "clf_C = svm.SVC(random_state=1)\n",
    "\n",
    "# Set up the training set sizes\n",
    "X_train_100 = X_train[0:100]\n",
    "y_train_100 = y_train[0:100]\n",
    "\n",
    "X_train_200 = X_train[0:200]\n",
    "y_train_200 = y_train[0:200]\n",
    "\n",
    "X_train_300 = X_train[0:300]\n",
    "y_train_300 = y_train[0:300]\n",
    "\n",
    "# Execute the 'train_predict' function for each classifier and each training set size\n",
    "print '1. clf_A'\n",
    "train_predict(clf_A, X_train_100, y_train_100, X_test, y_test)\n",
    "train_predict(clf_A, X_train_200, y_train_200, X_test, y_test)\n",
    "train_predict(clf_A, X_train_300, y_train_300, X_test, y_test)\n",
    "\n",
    "print '2. clf_B'\n",
    "train_predict(clf_B, X_train_100, y_train_100, X_test, y_test)\n",
    "train_predict(clf_B, X_train_200, y_train_200, X_test, y_test)\n",
    "train_predict(clf_B, X_train_300, y_train_300, X_test, y_test)\n",
    "\n",
    "print '3. clf_C'\n",
    "train_predict(clf_C, X_train_100, y_train_100, X_test, y_test)\n",
    "train_predict(clf_C, X_train_200, y_train_200, X_test, y_test)\n",
    "train_predict(clf_C, X_train_300, y_train_300, X_test, y_test)"
   ]
  },
  {
   "cell_type": "markdown",
   "metadata": {},
   "source": [
    "### Tabular Results\n",
    "Edit the cell below to see how a table can be designed in [Markdown](https://github.com/adam-p/markdown-here/wiki/Markdown-Cheatsheet#tables). You can record your results from above in the tables provided."
   ]
  },
  {
   "cell_type": "markdown",
   "metadata": {},
   "source": [
    "** Classifer 1 - Logistic Regression**  \n",
    "\n",
    "| Training Set Size | Prediction Time (train) | Prediction Time (test) | F1 Score (train) | F1 Score (test) |\n",
    "| :---------------: | :---------------------: | :--------------------: | :--------------: | :-------------: |\n",
    "| 100               |        0.0001        |         0.0001          |        0.8671       |     0.7068     |\n",
    "| 200               |        0.0002          |      0.0001       |     0.8211       |     0.7391       |\n",
    "| 300               |        0.0002          |     0.0001           |    0.8512      |    0.7500      |\n",
    "\n",
    "** Classifer 2 - Naive Bayes**  \n",
    "\n",
    "| Training Set Size | Prediction Time (train) | Prediction Time (test) | F1 Score (train) | F1 Score (test) |\n",
    "| :---------------: | :---------------------: | :--------------------: | :--------------: | :-------------: |\n",
    "| 100               |     0.0003            |       0.0003        |      0.7752     |      0.6457     |\n",
    "| 200               |     0.0002             |    0.0002          |     0.8060     |     0.7218     |\n",
    "| 300               |    0.0004             |     0.0002             |   0.8134          |     0.7761     |\n",
    "\n",
    "** Classifer 3 - SVM**  \n",
    "\n",
    "| Training Set Size | Prediction Time (train) | Prediction Time (test) | F1 Score (train) | F1 Score (test) |\n",
    "| :---------------: | :---------------------: | :--------------------: | :--------------: | :-------------: |\n",
    "| 100               |     0.0007     |      0.0007            |   0.8354           |       0.8025    |\n",
    "| 200               |     0.0024             |     0.0013          |    0.8431        |     0.8105     |\n",
    "| 300               |     0.0045             |    0.0016            |    0.8664       |     0.8052      |"
   ]
  },
  {
   "cell_type": "markdown",
   "metadata": {},
   "source": [
    "## Choosing the Best Model\n",
    "In this final section, you will choose from the three supervised learning models the *best* model to use on the student data. You will then perform a grid search optimization for the model over the entire training set (`X_train` and `y_train`) by tuning at least one parameter to improve upon the untuned model's F<sub>1</sub> score. "
   ]
  },
  {
   "cell_type": "code",
   "execution_count": 9,
   "metadata": {
    "collapsed": false
   },
   "outputs": [
    {
     "name": "stdout",
     "output_type": "stream",
     "text": [
      "SVC(C=1.0, cache_size=200, class_weight=None, coef0=0.0,\n",
      "  decision_function_shape=None, degree=3, gamma='auto', kernel='rbf',\n",
      "  max_iter=-1, probability=False, random_state=1, shrinking=True,\n",
      "  tol=0.001, verbose=False)\n",
      "Training a SVC using a training set size of 300. . .\n",
      "Trained model in 0.0064 seconds\n",
      "Made predictions in 0.0044 seconds.\n",
      "F1 score for training set: 0.8664.\n",
      "Made predictions in 0.0015 seconds.\n",
      "F1 score for test set: 0.8052.\n"
     ]
    }
   ],
   "source": [
    "print clf_C\n",
    "train_predict(clf_C, X_train, y_train, X_test, y_test)"
   ]
  },
  {
   "cell_type": "markdown",
   "metadata": {},
   "source": [
    "### Question 3 - Choosing the Best Model\n",
    "*Based on the experiments you performed earlier, in one to two paragraphs, explain to the board of supervisors what single model you chose as the best model. Which model is generally the most appropriate based on the available data, limited resources, cost, and performance?*"
   ]
  },
  {
   "cell_type": "markdown",
   "metadata": {},
   "source": [
    "**Answer: ** SVM's F1 score on test data set(0.8052) is bigger than others(Logistic Regression : 0.7500, Naive Bayes : 0.7761) and prediction time(SVM : 0.0016) is very large than other models(Logistic Regression : 0.0001, Naive Bayes = 0.0002). But i think it's resonably small(46ms for 300 dataset. 0.15ms per 1 dataset). So, i think SVM is best model. Bug if data set is so big, i'll choose other model. Because SVM need lots of memory & time when data set is large."
   ]
  },
  {
   "cell_type": "markdown",
   "metadata": {},
   "source": [
    "### Question 4 - Model in Layman's Terms\n",
    "*In one to two paragraphs, explain to the board of directors in layman's terms how the final model chosen is supposed to work. Be sure that you are describing the major qualities of the model, such as how the model is trained and how the model makes a prediction. Avoid using advanced mathematical or technical jargon, such as describing equations or discussing the algorithm implementation.*"
   ]
  },
  {
   "cell_type": "markdown",
   "metadata": {},
   "source": [
    "**Answer: ** In SVM(support vector machine) model, it try to find one divider that divide all dataset into two class. With traing datas, SVM trying to find one divider that distance from that divider to any class is largest [Fig1]. \n",
    "\n",
    "<img src=\"https://upload.wikimedia.org/wikipedia/commons/2/2a/Svm_max_sep_hyperplane_with_margin.png\" width=\"200\" alt=\"SVM margin\">\n",
    "<div width=\"100%\" style=\"text-align:center\"><a href=\"https://en.wikipedia.org/wiki/Support_vector_machine\">Fig1. image from wikipedia</a></div>\n",
    "\n",
    "SVM use some internal function(kernel) that mapping features to higher dimension [Fig2, Fig3]. Using that function, SVM can make problem more easy one.\n",
    "<img src=\"https://upload.wikimedia.org/wikipedia/commons/f/fe/Kernel_Machine.svg\" width=\"400\" alt=\"kernel\">\n",
    "<div width=\"100%\" style=\"text-align:center\"><a href=\"https://en.wikipedia.org/wiki/Support_vector_machine\">Fig2. image from wikipedia</a></div>\n",
    "<img src=\"https://udacity-github-sync-content.s3.amazonaws.com/_imgs/372/1467112001/kernel3.jpg\" width=\"400\" alt=\"kernel\">\n",
    "<div width=\"100%\" style=\"text-align:center\"><a href=\"https://en.wikipedia.org/wiki/Support_vector_machine\">Fig3. image from previous review</a></div>\n",
    "\n",
    "So, with traing data set, SVM model mapping features to higher dimension. And find some divider that can divide data set into two classes. This divider will have the largest margin from the two classes. After that work, we can predict test data set's label by that feature vector placed on which side of SVM model's divider."
   ]
  },
  {
   "cell_type": "markdown",
   "metadata": {},
   "source": [
    "### Implementation: Model Tuning\n",
    "Fine tune the chosen model. Use grid search (`GridSearchCV`) with at least one important parameter tuned with at least 3 different values. You will need to use the entire training set for this. In the code cell below, you will need to implement the following:\n",
    "- Import [`sklearn.grid_search.gridSearchCV`](http://scikit-learn.org/stable/modules/generated/sklearn.grid_search.GridSearchCV.html) and [`sklearn.metrics.make_scorer`](http://scikit-learn.org/stable/modules/generated/sklearn.metrics.make_scorer.html).\n",
    "- Create a dictionary of parameters you wish to tune for the chosen model.\n",
    " - Example: `parameters = {'parameter' : [list of values]}`.\n",
    "- Initialize the classifier you've chosen and store it in `clf`.\n",
    "- Create the F<sub>1</sub> scoring function using `make_scorer` and store it in `f1_scorer`.\n",
    " - Set the `pos_label` parameter to the correct value!\n",
    "- Perform grid search on the classifier `clf` using `f1_scorer` as the scoring method, and store it in `grid_obj`.\n",
    "- Fit the grid search object to the training data (`X_train`, `y_train`), and store it in `grid_obj`."
   ]
  },
  {
   "cell_type": "markdown",
   "metadata": {},
   "source": [
    "- gridSearchCV example : http://scikit-learn.org/stable/modules/generated/sklearn.grid_search.GridSearchCV.html\n",
    "> `from sklearn import svm, grid_search, datasets\n",
    "iris = datasets.load_iris()\n",
    "parameters = {'kernel':('linear', 'rbf'), 'C':[1, 10]}\n",
    "svr = svm.SVC()\n",
    "clf = grid_search.GridSearchCV(svr, parameters)\n",
    "clf.fit(iris.data, iris.target)`\n",
    "\n",
    "\n",
    "- scorer example : http://scikit-learn.org/stable/modules/generated/sklearn.metrics.make_scorer.html\n",
    "> ` from sklearn.metrics import fbeta_score, make_scorer\n",
    "ftwo_scorer = make_scorer(fbeta_score, beta=2)\n",
    "from sklearn.grid_search import GridSearchCV\n",
    "from sklearn.svm import LinearSVC\n",
    "grid = GridSearchCV(LinearSVC(), param_grid={'C': [1, 10]},\n",
    "                    scoring=ftwo_scorer)`\n",
    "\n",
    "- f1_score example : http://scikit-learn.org/stable/modules/generated/sklearn.metrics.f1_score.html#sklearn.metrics.f1_score\n",
    "> `from sklearn.metrics import f1_score\n",
    "y_true = [0, 1, 2, 0, 1, 2]\n",
    "y_pred = [0, 2, 1, 0, 0, 1]\n",
    "f1_score(y_true, y_pred, average='macro')  \n",
    "f1_score(y_true, y_pred, average='micro')  \n",
    "f1_score(y_true, y_pred, average='weighted')  \n",
    "f1_score(y_true, y_pred, average=None)`\n",
    "\n",
    "- sklearn.svm.SVC parameters : http://scikit-learn.org/stable/modules/generated/sklearn.svm.SVC.html#sklearn.svm.SVC\n",
    ">  class sklearn.svm.SVC(C=1.0, kernel='rbf', degree=3, gamma='auto', coef0=0.0, shrinking=True, probability=False, tol=0.001, cache_size=200, class_weight=None, verbose=False, max_iter=-1, decision_function_shape=None, random_state=None)[source]"
   ]
  },
  {
   "cell_type": "code",
   "execution_count": 10,
   "metadata": {
    "collapsed": false
   },
   "outputs": [],
   "source": [
    "from sklearn.metrics import fbeta_score, make_scorer\n",
    "ftwo_scorer = make_scorer(fbeta_score, beta=2)\n",
    "from sklearn.grid_search import GridSearchCV\n",
    "from sklearn.svm import LinearSVC\n",
    "grid = GridSearchCV(LinearSVC(), param_grid={'C': [1, 10]}, scoring=ftwo_scorer)"
   ]
  },
  {
   "cell_type": "code",
   "execution_count": 11,
   "metadata": {
    "collapsed": false
   },
   "outputs": [
    {
     "name": "stdout",
     "output_type": "stream",
     "text": [
      "SVC(C=1.0, cache_size=200, class_weight=None, coef0=0.0,\n",
      "  decision_function_shape=None, degree=2, gamma=0.1, kernel='rbf',\n",
      "  max_iter=-1, probability=False, random_state=None, shrinking=True,\n",
      "  tol=0.03, verbose=False)\n",
      "Made predictions in 0.0052 seconds.\n",
      "Tuned model has a training F1 score of 0.9781.\n",
      "Made predictions in 0.0017 seconds.\n",
      "Tuned model has a testing F1 score of 0.8258.\n"
     ]
    }
   ],
   "source": [
    "# Import 'gridSearchCV' and 'make_scorer'\n",
    "from sklearn import grid_search\n",
    "from sklearn.metrics import f1_score\n",
    "from sklearn.metrics import make_scorer\n",
    "\n",
    "# Initialize the classifier\n",
    "from sklearn import svm\n",
    "clf = svm.SVC()\n",
    "\n",
    "# Make an f1 scoring function using 'make_scorer' \n",
    "f1_scorer = make_scorer(f1_score, labels=['yes','no'], pos_label='yes')\n",
    "\n",
    "# Create the parameters list you wish to tune\n",
    "parameters = {\n",
    "              'C':[0.3, 1.0, 3.0], \n",
    "              'tol':[0.03, 0.1, 0.3, 1],\n",
    "              'degree':[1, 2, 3], \n",
    "              'gamma':[0.001, 0.1, 1.0],\n",
    "             }\n",
    "\n",
    "from sklearn.cross_validation import StratifiedShuffleSplit\n",
    "ssscv = StratifiedShuffleSplit( y_train, n_iter=3, test_size=0.1)\n",
    "\n",
    "# Perform grid search on the classifier using the f1_scorer as the scoring method\n",
    "grid_obj = grid_search.GridSearchCV(clf, param_grid=parameters, scoring=f1_scorer, cv=ssscv)\n",
    "\n",
    "# Fit the grid search object to the training data and find the optimal parameters\n",
    "grid_obj = grid_obj.fit(X_train, y_train)\n",
    "\n",
    "# Get the estimator\n",
    "clf = grid_obj.best_estimator_\n",
    "print clf\n",
    "\n",
    "# Report the final F1 score for training and testing after parameter tuning\n",
    "print \"Tuned model has a training F1 score of {:.4f}.\".format(predict_labels(clf, X_train, y_train))\n",
    "print \"Tuned model has a testing F1 score of {:.4f}.\".format(predict_labels(clf, X_test, y_test))"
   ]
  },
  {
   "cell_type": "markdown",
   "metadata": {},
   "source": [
    "### Question 5 - Final F<sub>1</sub> Score\n",
    "*What is the final model's F<sub>1</sub> score for training and testing? How does that score compare to the untuned model?*"
   ]
  },
  {
   "cell_type": "markdown",
   "metadata": {},
   "source": [
    "**Answer: **\n",
    "- Final model's F1 score(Tuned model)\n",
    "   - Tuned model has a training F1 score of 0.9781.\n",
    "   - Tuned model has a testing F1 score of 0.8258.\n",
    "   \n",
    "- Untuned model\n",
    "   - F1 score for training set: 0.8664.\n",
    "   - F1 score for test set: 0.8052.\n",
    "\n",
    "- Diff\n",
    "   - on training set : (0.9781 - 0.8664) / 0.8664 = 0.1289 => Improve 12.89 %\n",
    "   - on test set : (0.8258 - 0.8052) / 0.8052 = 0.0206 => Improve 2.06 %\n"
   ]
  },
  {
   "cell_type": "markdown",
   "metadata": {},
   "source": [
    "> **Note**: Once you have completed all of the code implementations and successfully answered each question above, you may finalize your work by exporting the iPython Notebook as an HTML document. You can do this by using the menu above and navigating to  \n",
    "**File -> Download as -> HTML (.html)**. Include the finished document along with this notebook as your submission."
   ]
  }
 ],
 "metadata": {
  "kernelspec": {
   "display_name": "Python 2",
   "language": "python",
   "name": "python2"
  },
  "language_info": {
   "codemirror_mode": {
    "name": "ipython",
    "version": 2
   },
   "file_extension": ".py",
   "mimetype": "text/x-python",
   "name": "python",
   "nbconvert_exporter": "python",
   "pygments_lexer": "ipython2",
   "version": "2.7.11"
  }
 },
 "nbformat": 4,
 "nbformat_minor": 0
}
